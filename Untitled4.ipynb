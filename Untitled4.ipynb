{
 "cells": [
  {
   "cell_type": "code",
   "execution_count": 15,
   "metadata": {},
   "outputs": [
    {
     "data": {
      "application/javascript": [
       "require.config({\n",
       "    paths: {\n",
       "        d3: '//cdnjs.cloudflare.com/ajax/libs/d3/3.4.8/d3.min'\n",
       "    }\n",
       "})"
      ],
      "text/plain": [
       "<IPython.core.display.Javascript object>"
      ]
     },
     "metadata": {},
     "output_type": "display_data"
    }
   ],
   "source": [
    "%%javascript\n",
    "require.config({\n",
    "    paths: {\n",
    "        d3: '//cdnjs.cloudflare.com/ajax/libs/d3/3.4.8/d3.min'\n",
    "    }\n",
    "})"
   ]
  },
  {
   "cell_type": "code",
   "execution_count": 16,
   "metadata": {},
   "outputs": [
    {
     "data": {
      "application/javascript": [
       "element.append(\"<div id='a'></div>\");"
      ],
      "text/plain": [
       "<IPython.core.display.Javascript object>"
      ]
     },
     "metadata": {},
     "output_type": "display_data"
    }
   ],
   "source": [
    "%%javascript\n",
    "element.append(\"<div id='a'></div>\");"
   ]
  },
  {
   "cell_type": "code",
   "execution_count": 21,
   "metadata": {},
   "outputs": [
    {
     "data": {
      "application/javascript": [
       "require([\"d3\"], function(d3){\n",
       "   d3.select(\"#a\")\n",
       "    .append(\"circle\")\n",
       "    .style(\"stroke\", \"black\")\n",
       "    .style(\"fill\", \"white\")\n",
       "    .attr(\"r\", 40)\n",
       "    .attr(\"cx\", 50)\n",
       "    .attr(\"cy\", 50)\n",
       "});"
      ],
      "text/plain": [
       "<IPython.core.display.Javascript object>"
      ]
     },
     "metadata": {},
     "output_type": "display_data"
    }
   ],
   "source": [
    "%%javascript\n",
    "require([\"d3\"], function(d3){\n",
    "   d3.select(\"#a\")\n",
    "    .append(\"circle\")\n",
    "    .style(\"stroke\", \"black\")\n",
    "    .style(\"fill\", \"white\")\n",
    "    .attr(\"r\", 40)\n",
    "    .attr(\"cx\", 50)\n",
    "    .attr(\"cy\", 50)\n",
    "});"
   ]
  },
  {
   "cell_type": "code",
   "execution_count": 22,
   "metadata": {
    "collapsed": true
   },
   "outputs": [],
   "source": [
    "%load_ext py_d3"
   ]
  },
  {
   "cell_type": "code",
   "execution_count": 31,
   "metadata": {},
   "outputs": [
    {
     "data": {
      "text/html": [
       "\n",
       "<script>\n",
       "requirejs.config({\n",
       "    paths: {\n",
       "        d3: \"//cdnjs.cloudflare.com/ajax/libs/d3/3.5.2/d3\"\n",
       "    }\n",
       "});\n",
       "\n",
       "require(['d3'], function(d3) {\n",
       "    window.d3 = d3;\n",
       "});\n",
       "</script>\n",
       "<script>\n",
       "_select = d3.select;\n",
       "\n",
       "d3.select8 = function(selection) {\n",
       "    return _select(\"#d3-cell-8\").select(selection);\n",
       "}\n",
       "d3.selectAll8 = function(selection) {\n",
       "    return _select(\"#d3-cell-8\").selectAll(selection);\n",
       "}\n",
       "</script>\n",
       "<g id=\"d3-cell-8\">\n",
       "\n",
       "<g></g>\n",
       "\n",
       "<style>\n",
       "element {\n",
       "    height: 25px;\n",
       "}\n",
       "\n",
       "div.bar {\n",
       "    display: inline-block;\n",
       "    width: 20px;\n",
       "    height: 75px;\n",
       "    margin-right: 2px;\n",
       "    background-color: teal;\n",
       "}\n",
       "</style>\n",
       "\n",
       "<script>\n",
       "\n",
       "var dataset = [5, 2 ,12, 23, 44, 78, 23];\n",
       "\n",
       "d3.select8(\"g\").selectAll(\"div\")\n",
       "    .data(dataset)\n",
       "    .enter()\n",
       "    .append(\"div\")\n",
       "    .attr(\"class\", \"bar\")\n",
       "    .style(\"height\", function(d) {\n",
       "        var barHeight = d * 5;\n",
       "        return barHeight + \"px\";\n",
       "    });\n",
       "</script>\n",
       "</g>"
      ],
      "text/plain": [
       "<IPython.core.display.HTML object>"
      ]
     },
     "metadata": {},
     "output_type": "display_data"
    }
   ],
   "source": [
    "%%d3 3.5.2\n",
    "\n",
    "<g></g>\n",
    "\n",
    "<style>\n",
    "element {\n",
    "    height: 25px;\n",
    "}\n",
    "\n",
    "div.bar {\n",
    "    display: inline-block;\n",
    "    width: 20px;\n",
    "    height: 75px;\n",
    "    margin-right: 2px;\n",
    "    background-color: teal;\n",
    "}\n",
    "</style>\n",
    "\n",
    "<script>\n",
    "\n",
    "var dataset = [5, 2 ,12, 23, 44, 78, 23];\n",
    "\n",
    "d3.select(\"g\").selectAll(\"div\")\n",
    "    .data(dataset)\n",
    "    .enter()\n",
    "    .append(\"div\")\n",
    "    .attr(\"class\", \"bar\")\n",
    "    .style(\"height\", function(d) {\n",
    "        var barHeight = d * 5;\n",
    "        return barHeight + \"px\";\n",
    "    });\n",
    "</script>"
   ]
  },
  {
   "cell_type": "code",
   "execution_count": 18,
   "metadata": {},
   "outputs": [
    {
     "data": {
      "application/javascript": [
       "   d3.select(\"#a\")\n",
       "    .append(\"circle\")\n",
       "    .style(\"stroke\", \"black\")\n",
       "    .style(\"fill\", \"white\")\n",
       "    .attr(\"r\", 40)\n",
       "    .attr(\"cx\", 50)\n",
       "    .attr(\"cy\", 50)"
      ],
      "text/plain": [
       "<IPython.core.display.Javascript object>"
      ]
     },
     "metadata": {},
     "output_type": "display_data"
    }
   ],
   "source": [
    "%%javascript\n",
    "   d3.select(\"#a\")\n",
    "    .append(\"circle\")\n",
    "    .style(\"stroke\", \"black\")\n",
    "    .style(\"fill\", \"white\")\n",
    "    .attr(\"r\", 40)\n",
    "    .attr(\"cx\", 50)\n",
    "    .attr(\"cy\", 50)"
   ]
  },
  {
   "cell_type": "code",
   "execution_count": 8,
   "metadata": {},
   "outputs": [
    {
     "data": {
      "application/javascript": [
       "console.log(\"ii\")"
      ],
      "text/plain": [
       "<IPython.core.display.Javascript object>"
      ]
     },
     "metadata": {},
     "output_type": "display_data"
    }
   ],
   "source": [
    "%%javascript\n",
    "console.log(\"ii\")"
   ]
  },
  {
   "cell_type": "code",
   "execution_count": null,
   "metadata": {
    "collapsed": true
   },
   "outputs": [],
   "source": []
  }
 ],
 "metadata": {
  "kernelspec": {
   "display_name": "Python 3",
   "language": "python",
   "name": "python3"
  },
  "language_info": {
   "codemirror_mode": {
    "name": "ipython",
    "version": 3
   },
   "file_extension": ".py",
   "mimetype": "text/x-python",
   "name": "python",
   "nbconvert_exporter": "python",
   "pygments_lexer": "ipython3",
   "version": "3.6.0"
  }
 },
 "nbformat": 4,
 "nbformat_minor": 2
}
