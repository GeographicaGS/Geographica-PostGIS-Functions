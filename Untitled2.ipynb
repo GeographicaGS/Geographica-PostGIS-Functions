{
 "cells": [
  {
   "cell_type": "code",
   "execution_count": 4,
   "metadata": {},
   "outputs": [
    {
     "ename": "SyntaxError",
     "evalue": "Unexpected token %",
     "output_type": "error",
     "traceback": [
      "evalmachine.<anonymous>:1",
      "%%html",
      "^",
      "SyntaxError: Unexpected token %",
      "    at Object.exports.runInThisContext (vm.js:76:16)",
      "    at run ([eval]:617:19)",
      "    at onRunRequest ([eval]:388:22)",
      "    at onMessage ([eval]:356:17)",
      "    at emitTwo (events.js:106:13)",
      "    at process.emit (events.js:191:7)",
      "    at process.nextTick (internal/child_process.js:744:12)",
      "    at _combinedTickCallback (internal/process/next_tick.js:67:7)",
      "    at process._tickCallback (internal/process/next_tick.js:98:9)"
     ]
    }
   ],
   "source": [
    "%%html\n",
    "<svg id=\"surface\" style=\"width: 100%; height: 100px\"></svg>"
   ]
  },
  {
   "cell_type": "code",
   "execution_count": 6,
   "metadata": {},
   "outputs": [
    {
     "ename": "AssertionError",
     "evalue": "path must be a string",
     "output_type": "error",
     "traceback": [
      "AssertionError: path must be a string",
      "    at Module.require (module.js:496:3)",
      "    at require (internal/module.js:20:19)",
      "    at evalmachine.<anonymous>:1:1",
      "    at ContextifyScript.Script.runInThisContext (vm.js:25:33)",
      "    at Object.exports.runInThisContext (vm.js:77:17)",
      "    at run ([eval]:617:19)",
      "    at onRunRequest ([eval]:388:22)",
      "    at onMessage ([eval]:356:17)",
      "    at emitTwo (events.js:106:13)",
      "    at process.emit (events.js:191:7)"
     ]
    }
   ],
   "source": [
    "require([\"d3\"], function(d3){\n",
    "   d3.select(\"#surface\")\n",
    "    .append(\"circle\")\n",
    "    .style(\"stroke\", \"black\")\n",
    "    .style(\"fill\", \"white\")\n",
    "    .attr(\"r\", 40)\n",
    "    .attr(\"cx\", 50)\n",
    "    .attr(\"cy\", 50)\n",
    "});"
   ]
  },
  {
   "cell_type": "code",
   "execution_count": null,
   "metadata": {
    "collapsed": true
   },
   "outputs": [],
   "source": []
  }
 ],
 "metadata": {
  "kernelspec": {
   "display_name": "Javascript (Node.js)",
   "language": "javascript",
   "name": "javascript"
  },
  "language_info": {
   "file_extension": ".js",
   "mimetype": "application/javascript",
   "name": "javascript",
   "version": "6.10.0"
  }
 },
 "nbformat": 4,
 "nbformat_minor": 2
}
